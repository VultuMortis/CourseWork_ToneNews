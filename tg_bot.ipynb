{
 "cells": [
  {
   "cell_type": "code",
   "execution_count": 3,
   "id": "0d93b943",
   "metadata": {},
   "outputs": [
    {
     "name": "stdout",
     "output_type": "stream",
     "text": [
      "Requirement already satisfied: python-telegram-bot==20.3 in d:\\program files (x86)\\1\\lib\\site-packages (20.3)\n",
      "Requirement already satisfied: requests in d:\\program files (x86)\\1\\lib\\site-packages (2.32.3)\n",
      "Requirement already satisfied: beautifulsoup4 in d:\\program files (x86)\\1\\lib\\site-packages (4.11.1)\n",
      "Requirement already satisfied: transformers in d:\\program files (x86)\\1\\lib\\site-packages (4.40.1)\n",
      "Requirement already satisfied: torch in d:\\program files (x86)\\1\\lib\\site-packages (2.5.1)\n",
      "Requirement already satisfied: nest_asyncio in d:\\program files (x86)\\1\\lib\\site-packages (1.5.5)\n",
      "Requirement already satisfied: httpx~=0.24.0 in d:\\program files (x86)\\1\\lib\\site-packages (from python-telegram-bot==20.3) (0.24.1)\n",
      "Requirement already satisfied: certifi in d:\\program files (x86)\\1\\lib\\site-packages (from httpx~=0.24.0->python-telegram-bot==20.3) (2021.10.8)\n",
      "Requirement already satisfied: httpcore<0.18.0,>=0.15.0 in d:\\program files (x86)\\1\\lib\\site-packages (from httpx~=0.24.0->python-telegram-bot==20.3) (0.17.3)\n",
      "Requirement already satisfied: idna in d:\\program files (x86)\\1\\lib\\site-packages (from httpx~=0.24.0->python-telegram-bot==20.3) (3.3)\n",
      "Requirement already satisfied: sniffio in d:\\program files (x86)\\1\\lib\\site-packages (from httpx~=0.24.0->python-telegram-bot==20.3) (1.2.0)\n",
      "Requirement already satisfied: h11<0.15,>=0.13 in d:\\program files (x86)\\1\\lib\\site-packages (from httpcore<0.18.0,>=0.15.0->httpx~=0.24.0->python-telegram-bot==20.3) (0.14.0)\n",
      "Requirement already satisfied: anyio<5.0,>=3.0 in d:\\program files (x86)\\1\\lib\\site-packages (from httpcore<0.18.0,>=0.15.0->httpx~=0.24.0->python-telegram-bot==20.3) (3.5.0)\n",
      "Requirement already satisfied: charset-normalizer<4,>=2 in d:\\program files (x86)\\1\\lib\\site-packages (from requests) (2.0.4)\n",
      "Requirement already satisfied: urllib3<3,>=1.21.1 in d:\\program files (x86)\\1\\lib\\site-packages (from requests) (1.26.9)\n",
      "Requirement already satisfied: soupsieve>1.2 in d:\\program files (x86)\\1\\lib\\site-packages (from beautifulsoup4) (2.3.1)\n",
      "Requirement already satisfied: filelock in d:\\program files (x86)\\1\\lib\\site-packages (from transformers) (3.6.0)\n",
      "Requirement already satisfied: huggingface-hub<1.0,>=0.19.3 in d:\\program files (x86)\\1\\lib\\site-packages (from transformers) (0.23.0)\n",
      "Requirement already satisfied: numpy>=1.17 in d:\\program files (x86)\\1\\lib\\site-packages (from transformers) (2.0.2)\n",
      "Requirement already satisfied: packaging>=20.0 in d:\\program files (x86)\\1\\lib\\site-packages (from transformers) (21.3)\n",
      "Requirement already satisfied: pyyaml>=5.1 in d:\\program files (x86)\\1\\lib\\site-packages (from transformers) (6.0)\n",
      "Requirement already satisfied: regex!=2019.12.17 in d:\\program files (x86)\\1\\lib\\site-packages (from transformers) (2022.3.15)\n",
      "Requirement already satisfied: tokenizers<0.20,>=0.19 in d:\\program files (x86)\\1\\lib\\site-packages (from transformers) (0.19.1)\n",
      "Requirement already satisfied: safetensors>=0.4.1 in d:\\program files (x86)\\1\\lib\\site-packages (from transformers) (0.4.3)\n",
      "Requirement already satisfied: tqdm>=4.27 in d:\\program files (x86)\\1\\lib\\site-packages (from transformers) (4.67.1)\n",
      "Requirement already satisfied: fsspec>=2023.5.0 in d:\\program files (x86)\\1\\lib\\site-packages (from huggingface-hub<1.0,>=0.19.3->transformers) (2024.3.1)\n",
      "Requirement already satisfied: typing-extensions>=3.7.4.3 in d:\\program files (x86)\\1\\lib\\site-packages (from huggingface-hub<1.0,>=0.19.3->transformers) (4.12.2)\n",
      "Requirement already satisfied: networkx in d:\\program files (x86)\\1\\lib\\site-packages (from torch) (2.7.1)\n",
      "Requirement already satisfied: jinja2 in d:\\program files (x86)\\1\\lib\\site-packages (from torch) (2.11.3)\n",
      "Requirement already satisfied: sympy==1.13.1 in d:\\program files (x86)\\1\\lib\\site-packages (from torch) (1.13.1)\n",
      "Requirement already satisfied: mpmath<1.4,>=1.1.0 in d:\\program files (x86)\\1\\lib\\site-packages (from sympy==1.13.1->torch) (1.2.1)\n",
      "Requirement already satisfied: pyparsing!=3.0.5,>=2.0.2 in d:\\program files (x86)\\1\\lib\\site-packages (from packaging>=20.0->transformers) (3.0.4)\n",
      "Requirement already satisfied: colorama in d:\\program files (x86)\\1\\lib\\site-packages (from tqdm>=4.27->transformers) (0.4.4)\n",
      "Requirement already satisfied: MarkupSafe>=0.23 in d:\\program files (x86)\\1\\lib\\site-packages (from jinja2->torch) (2.0.1)\n"
     ]
    },
    {
     "name": "stderr",
     "output_type": "stream",
     "text": [
      "WARNING: Ignoring invalid distribution -ip (d:\\program files (x86)\\1\\lib\\site-packages)\n",
      "WARNING: Ignoring invalid distribution -ip (d:\\program files (x86)\\1\\lib\\site-packages)\n",
      "WARNING: Ignoring invalid distribution -ip (d:\\program files (x86)\\1\\lib\\site-packages)\n"
     ]
    }
   ],
   "source": [
    "!pip install python-telegram-bot==20.3 requests beautifulsoup4 transformers torch nest_asyncio"
   ]
  },
  {
   "cell_type": "code",
   "execution_count": 5,
   "id": "e3178d02",
   "metadata": {},
   "outputs": [
    {
     "name": "stdout",
     "output_type": "stream",
     "text": [
      "Requirement already satisfied: python-telegram-bot==20.3 in d:\\program files (x86)\\1\\lib\\site-packages (20.3)\n",
      "Requirement already satisfied: httpx~=0.24.0 in d:\\program files (x86)\\1\\lib\\site-packages (from python-telegram-bot==20.3) (0.24.1)\n",
      "Requirement already satisfied: certifi in d:\\program files (x86)\\1\\lib\\site-packages (from httpx~=0.24.0->python-telegram-bot==20.3) (2021.10.8)\n",
      "Requirement already satisfied: httpcore<0.18.0,>=0.15.0 in d:\\program files (x86)\\1\\lib\\site-packages (from httpx~=0.24.0->python-telegram-bot==20.3) (0.17.3)\n",
      "Requirement already satisfied: idna in d:\\program files (x86)\\1\\lib\\site-packages (from httpx~=0.24.0->python-telegram-bot==20.3) (3.3)\n",
      "Requirement already satisfied: sniffio in d:\\program files (x86)\\1\\lib\\site-packages (from httpx~=0.24.0->python-telegram-bot==20.3) (1.2.0)\n",
      "Requirement already satisfied: h11<0.15,>=0.13 in d:\\program files (x86)\\1\\lib\\site-packages (from httpcore<0.18.0,>=0.15.0->httpx~=0.24.0->python-telegram-bot==20.3) (0.14.0)\n",
      "Requirement already satisfied: anyio<5.0,>=3.0 in d:\\program files (x86)\\1\\lib\\site-packages (from httpcore<0.18.0,>=0.15.0->httpx~=0.24.0->python-telegram-bot==20.3) (3.5.0)\n"
     ]
    },
    {
     "name": "stderr",
     "output_type": "stream",
     "text": [
      "WARNING: Ignoring invalid distribution -ip (d:\\program files (x86)\\1\\lib\\site-packages)\n",
      "WARNING: Ignoring invalid distribution -ip (d:\\program files (x86)\\1\\lib\\site-packages)\n",
      "WARNING: Ignoring invalid distribution -ip (d:\\program files (x86)\\1\\lib\\site-packages)\n"
     ]
    }
   ],
   "source": [
    "!pip install python-telegram-bot==20.3"
   ]
  },
  {
   "cell_type": "code",
   "execution_count": 4,
   "id": "e30fc11a",
   "metadata": {},
   "outputs": [
    {
     "name": "stdout",
     "output_type": "stream",
     "text": [
      "Collecting telegram\n",
      "  Downloading telegram-0.0.1.tar.gz (879 bytes)\n",
      "  Preparing metadata (setup.py): started\n",
      "  Preparing metadata (setup.py): finished with status 'done'\n",
      "Building wheels for collected packages: telegram\n",
      "  Building wheel for telegram (setup.py): started\n",
      "  Building wheel for telegram (setup.py): finished with status 'done'\n",
      "  Created wheel for telegram: filename=telegram-0.0.1-py3-none-any.whl size=1307 sha256=ce8a0aa62088a9d48db985f2d78f082f09effc53b216c89fc69d3790bba0ab93\n",
      "  Stored in directory: c:\\users\\иван абоба\\appdata\\local\\pip\\cache\\wheels\\11\\7a\\5d\\62391dcb6b9a45247192c3a711bf03ed513c14218a8b275a63\n",
      "Successfully built telegram\n",
      "Installing collected packages: telegram\n",
      "Successfully installed telegram-0.0.1\n"
     ]
    },
    {
     "name": "stderr",
     "output_type": "stream",
     "text": [
      "WARNING: Ignoring invalid distribution -ip (d:\\program files (x86)\\1\\lib\\site-packages)\n",
      "  DEPRECATION: Building 'telegram' using the legacy setup.py bdist_wheel mechanism, which will be removed in a future version. pip 25.3 will enforce this behaviour change. A possible replacement is to use the standardized build interface by setting the `--use-pep517` option, (possibly combined with `--no-build-isolation`), or adding a `pyproject.toml` file to the source tree of 'telegram'. Discussion can be found at https://github.com/pypa/pip/issues/6334\n",
      "WARNING: Ignoring invalid distribution -ip (d:\\program files (x86)\\1\\lib\\site-packages)\n",
      "WARNING: Ignoring invalid distribution -ip (d:\\program files (x86)\\1\\lib\\site-packages)\n"
     ]
    }
   ],
   "source": [
    "!pip install telegram"
   ]
  },
  {
   "cell_type": "code",
   "execution_count": 7,
   "id": "99d28b6c",
   "metadata": {},
   "outputs": [
    {
     "name": "stdout",
     "output_type": "stream",
     "text": [
      "Requirement already satisfied: bs4 in d:\\program files (x86)\\1\\lib\\site-packages (0.0.2)\n",
      "Requirement already satisfied: beautifulsoup4 in d:\\program files (x86)\\1\\lib\\site-packages (from bs4) (4.11.1)\n",
      "Requirement already satisfied: soupsieve>1.2 in d:\\program files (x86)\\1\\lib\\site-packages (from beautifulsoup4->bs4) (2.3.1)\n"
     ]
    },
    {
     "name": "stderr",
     "output_type": "stream",
     "text": [
      "WARNING: Ignoring invalid distribution -ip (d:\\program files (x86)\\1\\lib\\site-packages)\n",
      "WARNING: Ignoring invalid distribution -ip (d:\\program files (x86)\\1\\lib\\site-packages)\n",
      "WARNING: Ignoring invalid distribution -ip (d:\\program files (x86)\\1\\lib\\site-packages)\n"
     ]
    }
   ],
   "source": [
    "!pip install bs4"
   ]
  },
  {
   "cell_type": "code",
   "execution_count": null,
   "id": "8c6a8f32",
   "metadata": {},
   "outputs": [],
   "source": []
  },
  {
   "cell_type": "code",
   "execution_count": null,
   "id": "d36567b0",
   "metadata": {},
   "outputs": [
    {
     "ename": "ModuleNotFoundError",
     "evalue": "No module named 'bs4'",
     "output_type": "error",
     "traceback": [
      "\u001b[1;31m---------------------------------------------------------------------------\u001b[0m",
      "\u001b[1;31mModuleNotFoundError\u001b[0m                       Traceback (most recent call last)",
      "Cell \u001b[1;32mIn[1], line 5\u001b[0m\n\u001b[0;32m      3\u001b[0m \u001b[38;5;28;01mimport\u001b[39;00m\u001b[38;5;250m \u001b[39m\u001b[38;5;21;01mnest_asyncio\u001b[39;00m\n\u001b[0;32m      4\u001b[0m \u001b[38;5;28;01mimport\u001b[39;00m\u001b[38;5;250m \u001b[39m\u001b[38;5;21;01mrequests\u001b[39;00m\n\u001b[1;32m----> 5\u001b[0m \u001b[38;5;28;01mfrom\u001b[39;00m\u001b[38;5;250m \u001b[39m\u001b[38;5;21;01mbs4\u001b[39;00m\u001b[38;5;250m \u001b[39m\u001b[38;5;28;01mimport\u001b[39;00m BeautifulSoup\n\u001b[0;32m      6\u001b[0m \u001b[38;5;28;01mimport\u001b[39;00m\u001b[38;5;250m \u001b[39m\u001b[38;5;21;01mtorch\u001b[39;00m\n\u001b[0;32m      7\u001b[0m \u001b[38;5;28;01mimport\u001b[39;00m\u001b[38;5;250m \u001b[39m\u001b[38;5;21;01mtorch\u001b[39;00m\u001b[38;5;21;01m.\u001b[39;00m\u001b[38;5;21;01mnn\u001b[39;00m\u001b[38;5;21;01m.\u001b[39;00m\u001b[38;5;21;01mfunctional\u001b[39;00m\u001b[38;5;250m \u001b[39m\u001b[38;5;28;01mas\u001b[39;00m\u001b[38;5;250m \u001b[39m\u001b[38;5;21;01mF\u001b[39;00m\n",
      "\u001b[1;31mModuleNotFoundError\u001b[0m: No module named 'bs4'"
     ]
    }
   ],
   "source": [
    "import os\n",
    "import logging\n",
    "import nest_asyncio\n",
    "import requests\n",
    "from bs4 import BeautifulSoup\n",
    "import torch\n",
    "import torch.nn.functional as F\n",
    "from transformers import BertTokenizer, AutoModel\n",
    "from telegram import Update\n",
    "from telegram.ext import (\n",
    "    ApplicationBuilder,\n",
    "    CommandHandler,\n",
    "    MessageHandler,\n",
    "    ContextTypes,\n",
    "    filters,\n",
    ")\n",
    "\n",
    "nest_asyncio.apply()\n",
    "\n",
    "# Логирование\n",
    "logging.basicConfig(\n",
    "    format='%(asctime)s - %(name)s - %(levelname)s - %(message)s', level=logging.INFO\n",
    ")\n",
    "logger = logging.getLogger(__name__)\n",
    "\n",
    "# 1. Токенизатор и модель\n",
    "TOKENIZER_NAME = \"DeepPavlov/rubert-base-cased\"\n",
    "MODEL_NAME = \"sberbank-ai/ruBert-base\"\n",
    "MODEL_PATH = \"best_model_new.pth\"\n",
    "\n",
    "tokenizer = BertTokenizer.from_pretrained(TOKENIZER_NAME)\n",
    "base_model = AutoModel.from_pretrained(MODEL_NAME)\n",
    "\n",
    "class SentimentClassifier(torch.nn.Module):\n",
    "    def __init__(self, bert_model, n_classes=2, dropout=0.3):\n",
    "        super().__init__()\n",
    "        self.bert = bert_model\n",
    "        self.dropout = torch.nn.Dropout(dropout)\n",
    "        self.classifier = torch.nn.Linear(self.bert.config.hidden_size, n_classes)\n",
    "\n",
    "    def forward(self, input_ids, attention_mask):\n",
    "        outputs = self.bert(input_ids=input_ids, attention_mask=attention_mask)\n",
    "        pooled = outputs.pooler_output\n",
    "        return self.classifier(self.dropout(pooled))\n",
    "\n",
    "device = torch.device(\"cuda\" if torch.cuda.is_available() else \"cpu\")\n",
    "model = SentimentClassifier(base_model).to(device)\n",
    "model.load_state_dict(torch.load(MODEL_PATH, map_location=device))\n",
    "model.eval()\n",
    "\n",
    "# 2. Парсер новости\n",
    "def extract_text(url: str) -> str:\n",
    "    resp = requests.get(url, timeout=10)\n",
    "    soup = BeautifulSoup(resp.content, 'html.parser')\n",
    "    return \"\\n\".join(p.get_text() for p in soup.find_all('p') if p.get_text())\n",
    "\n",
    "# 3. Предикт\n",
    "def predict_sentiment(text: str) -> str:\n",
    "    enc = tokenizer(\n",
    "        text, truncation=True, padding='max_length', max_length=256, return_tensors='pt'\n",
    "    )\n",
    "    input_ids = enc['input_ids'].to(device)\n",
    "    attn_mask = enc['attention_mask'].to(device)\n",
    "    with torch.no_grad():\n",
    "        logits = model(input_ids, attn_mask)\n",
    "        probs = F.softmax(logits, dim=1).cpu().numpy()[0]\n",
    "    labels = ['Негативная', 'Позитивная']\n",
    "    idx = probs.argmax()\n",
    "    return f\"{labels[idx]} (уверенность {probs[idx]:.2f})\"\n",
    "\n",
    "# 4. Хэндлеры Telegram\n",
    "async def start(update: Update, context: ContextTypes.DEFAULT_TYPE):\n",
    "    await update.message.reply_text(\n",
    "        \"Привет! Пришли ссылку на новость — я скажу, положительная она или отрицательная.\"\n",
    "    )\n",
    "\n",
    "async def handle_url(update: Update, context: ContextTypes.DEFAULT_TYPE):\n",
    "    url = update.message.text.strip()\n",
    "    await update.message.reply_text(\"Скачиваю и анализирую статью…\")\n",
    "    try:\n",
    "        text = extract_text(url)\n",
    "        if not text:\n",
    "            return await update.message.reply_text(\"Не смог найти текст на странице.\")\n",
    "        result = predict_sentiment(text)\n",
    "        await update.message.reply_text(f\"Результат: {result}\")\n",
    "    except Exception as e:\n",
    "        logger.error(\"Ошибка при обработке: %s\", e)\n",
    "        await update.message.reply_text(\"Не удалось обработать ссылку.\")\n",
    "\n",
    "def main():\n",
    "    token = os.getenv(\"TELEGRAM_TOKEN\", \"токен\")\n",
    "    app = ApplicationBuilder().token(token).build()\n",
    "\n",
    "    app.add_handler(CommandHandler(\"start\", start))\n",
    "    app.add_handler(MessageHandler(filters.TEXT & ~filters.COMMAND, handle_url))\n",
    "\n",
    "    # Запуск polling внутри Colab\n",
    "    app.run_polling()\n",
    "\n",
    "if __name__ == \"__main__\":\n",
    "    main()\n"
   ]
  },
  {
   "cell_type": "code",
   "execution_count": null,
   "id": "b0e18473",
   "metadata": {},
   "outputs": [],
   "source": []
  },
  {
   "cell_type": "code",
   "execution_count": null,
   "id": "42a83348",
   "metadata": {},
   "outputs": [],
   "source": []
  },
  {
   "cell_type": "code",
   "execution_count": null,
   "id": "788b4f0a",
   "metadata": {},
   "outputs": [],
   "source": []
  },
  {
   "cell_type": "code",
   "execution_count": null,
   "id": "a80acc2d",
   "metadata": {},
   "outputs": [],
   "source": []
  }
 ],
 "metadata": {
  "kernelspec": {
   "display_name": "Python 3",
   "language": "python",
   "name": "python3"
  },
  "language_info": {
   "codemirror_mode": {
    "name": "ipython",
    "version": 3
   },
   "file_extension": ".py",
   "mimetype": "text/x-python",
   "name": "python",
   "nbconvert_exporter": "python",
   "pygments_lexer": "ipython3",
   "version": "3.10.0"
  }
 },
 "nbformat": 4,
 "nbformat_minor": 5
}
